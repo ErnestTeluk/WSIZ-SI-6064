{
 "cells": [
  {
   "cell_type": "code",
   "execution_count": 1,
   "metadata": {
    "scrolled": true
   },
   "outputs": [
    {
     "name": "stdout",
     "output_type": "stream",
     "text": [
      "Przykładowe wartości cech:\n",
      " [[6.3200e-03 1.8000e+01 2.3100e+00 0.0000e+00 5.3800e-01 6.5750e+00\n",
      "  6.5200e+01 4.0900e+00 1.0000e+00 2.9600e+02 1.5300e+01 3.9690e+02\n",
      "  4.9800e+00]\n",
      " [2.7310e-02 0.0000e+00 7.0700e+00 0.0000e+00 4.6900e-01 6.4210e+00\n",
      "  7.8900e+01 4.9671e+00 2.0000e+00 2.4200e+02 1.7800e+01 3.9690e+02\n",
      "  9.1400e+00]\n",
      " [2.7290e-02 0.0000e+00 7.0700e+00 0.0000e+00 4.6900e-01 7.1850e+00\n",
      "  6.1100e+01 4.9671e+00 2.0000e+00 2.4200e+02 1.7800e+01 3.9283e+02\n",
      "  4.0300e+00]\n",
      " [3.2370e-02 0.0000e+00 2.1800e+00 0.0000e+00 4.5800e-01 6.9980e+00\n",
      "  4.5800e+01 6.0622e+00 3.0000e+00 2.2200e+02 1.8700e+01 3.9463e+02\n",
      "  2.9400e+00]]\n",
      "Przykładowe kwoty:  [24.  21.6 34.7 33.4]\n",
      "Elementy zbioru:  ['data', 'target', 'feature_names', 'DESCR', 'filename']\n",
      "Klucze dostępne w zbiorze danych:  dict_keys(['data', 'target', 'feature_names', 'DESCR', 'filename'])\n",
      ".. _boston_dataset:\n",
      "\n",
      "Boston house prices dataset\n",
      "---------------------------\n",
      "\n",
      "**Data Set Characteristics:**  \n",
      "\n",
      "    :Number of Instances: 506 \n",
      "\n",
      "    :Number of Attributes: 13 numeric/categorical predictive. Median Value (attribute 14) is usually the target.\n",
      "\n",
      "    :Attribute Information (in order):\n",
      "        - CRIM     per capita crime rate by town\n",
      "        - ZN       proportion of residential land zoned for lots over 25,000 sq.ft.\n",
      "        - INDUS    proportion of non-retail business acres per town\n",
      "        - CHAS     Charles River dummy variable (= 1 if tract bounds river; 0 otherwise)\n",
      "        - NOX      nitric oxides concentration (parts per 10 million)\n",
      "        - RM       average number of rooms per dwelling\n",
      "        - AGE      proportion of owner-occupied units built prior to 1940\n",
      "        - DIS      weighted distances to five Boston employment centres\n",
      "        - RAD      index of accessibility to radial highways\n",
      "        - TAX      full-value property-tax rate per $10,000\n",
      "        - PTRATIO  pupil-teacher ratio by town\n",
      "        - B        1000(Bk - 0.63)^2 where Bk is the proportion of blacks by town\n",
      "        - LSTAT    % lower status of the population\n",
      "        - MEDV     Median value of owner-occupied homes in $1000's\n",
      "\n",
      "    :Missing Attribute Values: None\n",
      "\n",
      "    :Creator: Harrison, D. and Rubinfeld, D.L.\n",
      "\n",
      "This is a copy of UCI ML housing dataset.\n",
      "https://archive.ics.uci.edu/ml/machine-learning-databases/housing/\n",
      "\n",
      "\n",
      "This dataset was taken from the StatLib library which is maintained at Carnegie Mellon University.\n",
      "\n",
      "The Boston house-price data of Harrison, D. and Rubinfeld, D.L. 'Hedonic\n",
      "prices and the demand for clean air', J. Environ. Economics & Management,\n",
      "vol.5, 81-102, 1978.   Used in Belsley, Kuh & Welsch, 'Regression diagnostics\n",
      "...', Wiley, 1980.   N.B. Various transformations are used in the table on\n",
      "pages 244-261 of the latter.\n",
      "\n",
      "The Boston house-price data has been used in many machine learning papers that address regression\n",
      "problems.   \n",
      "     \n",
      ".. topic:: References\n",
      "\n",
      "   - Belsley, Kuh & Welsch, 'Regression diagnostics: Identifying Influential Data and Sources of Collinearity', Wiley, 1980. 244-261.\n",
      "   - Quinlan,R. (1993). Combining Instance-Based and Model-Based Learning. In Proceedings on the Tenth International Conference of Machine Learning, 236-243, University of Massachusetts, Amherst. Morgan Kaufmann.\n",
      "\n"
     ]
    },
    {
     "data": {
      "image/png": "[encoded data removed]",
      "text/plain": [
       "<Figure size 432x288 with 1 Axes>"
      ]
     },
     "metadata": {
      "needs_background": "light"
     },
     "output_type": "display_data"
    },
    {
     "name": "stdout",
     "output_type": "stream",
     "text": [
      "Metryka domyślna:  0.10618676242563296\n",
      "Metryka r2:  0.10618676242563296\n",
      "Współczynniki regresji:\n",
      " [-0.49443329]\n"
     ]
    },
    {
     "data": {
      "image/png": "[encoded data removed]",
      "text/plain": [
       "<Figure size 432x288 with 1 Axes>"
      ]
     },
     "metadata": {
      "needs_background": "light"
     },
     "output_type": "display_data"
    },
    {
     "name": "stdout",
     "output_type": "stream",
     "text": [
      "[-0.08001604  0.00846094 -0.70530959  0.12080509 -0.94163309]\n",
      "[ 0.03110287  0.01794374 -0.00416359  0.14110162 -0.17542373]\n",
      "[ -37.29856463  -90.26649703 -136.57347572  -77.11581342  -51.62475583]\n",
      "[-19.35478866 -27.0063431  -27.91769175 -29.73451726 -17.94168284]\n"
     ]
    }
   ],
   "source": [
    "# Zadanie 1\n",
    "# Wybierz inną cechę i spróbuj przewidzieć ceny mieszkań. Użyj walidacji krzyżowej.\n",
    "# Zadanie bonus: zaimportuj dane nt cukrzycy przy pomocy funkcji load_diabetes\n",
    "# Następnie przeanalizuj dane i zaproponuj regresor liniowy. Sprawdź jakość modelu za pomocą walidacji krzyżowej.\n",
    "\n",
    "from sklearn.datasets import load_boston\n",
    "import matplotlib.pyplot as plt\n",
    "import pandas as pd\n",
    "import numpy as np\n",
    "import seaborn as sns\n",
    "from sklearn.model_selection import train_test_split\n",
    "from sklearn.metrics import r2_score\n",
    "from sklearn.linear_model import LinearRegression\n",
    "from sklearn.model_selection import cross_val_score\n",
    "\n",
    "%matplotlib inline\n",
    "\n",
    "# Loading a set of property features and their prices\n",
    "boston_property = load_boston()\n",
    "boston_list = pd.DataFrame(boston_property['data'], columns=boston_property['feature_names'])\n",
    "\n",
    "# appending price information to the rest of the dataframe\n",
    "boston_list['target'] = np.array(list(boston_property['target']))\n",
    "\n",
    "\n",
    "print('Przykładowe wartości cech:\\n', boston_property.data[:4])\n",
    "print('Przykładowe kwoty: ', boston_property.target[:4])\n",
    "\n",
    "\n",
    "print('Elementy zbioru: ', list(boston_property.keys()))\n",
    "print('Klucze dostępne w zbiorze danych: ', boston_property.keys())\n",
    "print(boston_property.DESCR)\n",
    "\n",
    "#Downloading crime\n",
    "crime = boston_property['data'][:, np.newaxis, 0]\n",
    "plt.scatter(crime, boston_property['target'])\n",
    "plt.show()\n",
    "\n",
    "\n",
    "# Creation of a linear regressor\n",
    "linreg = LinearRegression()\n",
    "\n",
    "X_train, X_test, y_train, y_test = train_test_split(crime, boston_property['target'], test_size = 0.5)\n",
    "\n",
    "linreg.fit(X_train, y_train)\n",
    "\n",
    "# predicting crime in the city per person\n",
    "y_pred = linreg.predict(X_test)\n",
    "\n",
    "# default metric\n",
    "print('Metryka domyślna: ', linreg.score(X_test, y_test))\n",
    "\n",
    "# indicator (metric) r ^ 2\n",
    "# documentation: https://scikit-learn.org/stable/modules/generated/sklearn.metrics.r2_score.html#sklearn.metrics.r2_score\n",
    "print('Metryka r2: ', r2_score(y_test, y_pred))\n",
    "\n",
    "# regression coefficients\n",
    "print('Współczynniki regresji:\\n', linreg.coef_)\n",
    "\n",
    "# Regression graph\n",
    "plt.scatter(X_test, y_test, color='black')\n",
    "plt.plot(X_test, y_pred, color='blue', linewidth=2)\n",
    "plt.show()\n",
    "\n",
    "cv_score_r2 = cross_val_score(linreg, crime, boston_property.target, cv=5, scoring='r2')\n",
    "print(cv_score_r2)\n",
    "\n",
    "# we use a different metric\n",
    "# documentation:\n",
    "# https://scikit-learn.org/stable/modules/model_evaluation.html#scoring-parameter\n",
    "cv_score_ev = cross_val_score(linreg, crime, boston_property.target, cv=5, scoring='explained_variance')\n",
    "print(cv_score_ev)\n",
    "\n",
    "# and another one\n",
    "cv_score_mse = cross_val_score(linreg, crime, boston_property.target, cv=5, scoring='neg_mean_squared_error')\n",
    "print(cv_score_mse)\n",
    "\n",
    "\n",
    "max_error = cross_val_score(linreg, crime, boston_property.target, cv=5, scoring='max_error')\n",
    "print(max_error)"
   ]
  },
  {
   "cell_type": "code",
   "execution_count": 2,
   "metadata": {},
   "outputs": [
    {
     "name": "stdout",
     "output_type": "stream",
     "text": [
      "Elementy zbioru:  ['data', 'target', 'DESCR', 'feature_names', 'data_filename', 'target_filename']\n",
      "Klucze dostępne w zbiorze danych:  dict_keys(['data', 'target', 'DESCR', 'feature_names', 'data_filename', 'target_filename'])\n",
      ".. _diabetes_dataset:\n",
      "\n",
      "Diabetes dataset\n",
      "----------------\n",
      "\n",
      "Ten baseline variables, age, sex, body mass index, average blood\n",
      "pressure, and six blood serum measurements were obtained for each of n =\n",
      "442 diabetes patients, as well as the response of interest, a\n",
      "quantitative measure of disease progression one year after baseline.\n",
      "\n",
      "**Data Set Characteristics:**\n",
      "\n",
      "  :Number of Instances: 442\n",
      "\n",
      "  :Number of Attributes: First 10 columns are numeric predictive values\n",
      "\n",
      "  :Target: Column 11 is a quantitative measure of disease progression one year after baseline\n",
      "\n",
      "  :Attribute Information:\n",
      "      - Age\n",
      "      - Sex\n",
      "      - Body mass index\n",
      "      - Average blood pressure\n",
      "      - S1\n",
      "      - S2\n",
      "      - S3\n",
      "      - S4\n",
      "      - S5\n",
      "      - S6\n",
      "\n",
      "Note: Each of these 10 feature variables have been mean centered and scaled by the standard deviation times `n_samples` (i.e. the sum of squares of each column totals 1).\n",
      "\n",
      "Source URL:\n",
      "https://www4.stat.ncsu.edu/~boos/var.select/diabetes.html\n",
      "\n",
      "For more information see:\n",
      "Bradley Efron, Trevor Hastie, Iain Johnstone and Robert Tibshirani (2004) \"Least Angle Regression,\" Annals of Statistics (with discussion), 407-499.\n",
      "(https://web.stanford.edu/~hastie/Papers/LARS/LeastAngle_2002.pdf)\n"
     ]
    },
    {
     "data": {
      "image/png": "[encoded data removed]",
      "text/plain": [
       "<Figure size 432x288 with 1 Axes>"
      ]
     },
     "metadata": {
      "needs_background": "light"
     },
     "output_type": "display_data"
    },
    {
     "name": "stdout",
     "output_type": "stream",
     "text": [
      "Metryka domyślna:  0.027902318993950015\n",
      "Metryka r2:  0.027902318993950015\n",
      "Współczynniki regresji:\n",
      " [327.46470647]\n"
     ]
    },
    {
     "data": {
      "image/png": "[encoded data removed]",
      "text/plain": [
       "<Figure size 432x288 with 1 Axes>"
      ]
     },
     "metadata": {
      "needs_background": "light"
     },
     "output_type": "display_data"
    },
    {
     "name": "stdout",
     "output_type": "stream",
     "text": [
      "[-0.05439031 -0.01198372 -0.01562396  0.07293105  0.04727714]\n",
      "[ 0.0146825   0.02668767 -0.01321893  0.0738942   0.05100268]\n",
      "[-5138.32232857 -6420.46317189 -6356.36843802 -4863.65224943\n",
      " -6164.79356774]\n",
      "[-176.48716234 -182.40259446 -210.49491793 -164.7705303  -164.34680909]\n"
     ]
    }
   ],
   "source": [
    "#zadanie bonus\n",
    "from sklearn.datasets import load_diabetes\n",
    "import matplotlib.pyplot as plt\n",
    "import pandas as pd\n",
    "import numpy as np\n",
    "import seaborn as sns\n",
    "from sklearn.model_selection import train_test_split\n",
    "from sklearn.metrics import r2_score\n",
    "from sklearn.linear_model import LinearRegression\n",
    "from sklearn.model_selection import cross_val_score\n",
    "\n",
    "\n",
    "%matplotlib inline\n",
    "#Loading diabetics collection\n",
    "diabetics = load_diabetes()\n",
    "\n",
    "\n",
    "diabetics_list = pd.DataFrame(diabetics['data'], columns=diabetics['feature_names'])\n",
    "\n",
    "diabetics_list['target'] = np.array(list(diabetics['target']))\n",
    "\n",
    "print('Elementy zbioru: ', list(diabetics.keys()))\n",
    "print('Klucze dostępne w zbiorze danych: ', diabetics.keys())\n",
    "print(diabetics.DESCR)\n",
    "\n",
    "\n",
    "#Download of diabetics\n",
    "wiek = diabetics['data'][:, np.newaxis, 0]\n",
    "plt.scatter(wiek,diabetics['target'])\n",
    "plt.show()\n",
    "\n",
    "\n",
    "# Creation of a linear regressor\n",
    "linreg = LinearRegression()\n",
    "\n",
    "X_train, X_test, y_train, y_test = train_test_split(wiek, diabetics['target'], test_size = 0.5)\n",
    "\n",
    "linreg.fit(X_train, y_train)\n",
    "\n",
    "# predicting diabetes by age\n",
    "y_pred = linreg.predict(X_test)\n",
    "\n",
    "# default metric\n",
    "print('Metryka domyślna: ', linreg.score(X_test, y_test))\n",
    "\n",
    "# indicator (metric) r ^ 2\n",
    "# documentation: https://scikit-learn.org/stable/modules/generated/sklearn.metrics.r2_score.html#sklearn.metrics.r2_score\n",
    "print('Metryka r2: ', r2_score(y_test, y_pred))\n",
    "\n",
    "# regression coefficients\n",
    "print('Współczynniki regresji:\\n', linreg.coef_)\n",
    "\n",
    "# Regression graph\n",
    "plt.scatter(X_test, y_test, color='black')\n",
    "plt.plot(X_test, y_pred, color='blue', linewidth=2)\n",
    "plt.show()\n",
    "\n",
    "cv_score_r2 = cross_val_score(linreg, wiek, diabetics.target, cv=5, scoring='r2')\n",
    "print(cv_score_r2)\n",
    "\n",
    "# we use a different metric\n",
    "# documentation:\n",
    "# https://scikit-learn.org/stable/modules/model_evaluation.html#scoring-parameter\n",
    "cv_score_ev = cross_val_score(linreg, wiek, diabetics.target, cv=5, scoring='explained_variance')\n",
    "print(cv_score_ev)\n",
    "\n",
    "# and another one\n",
    "cv_score_mse = cross_val_score(linreg, wiek, diabetics.target, cv=5, scoring='neg_mean_squared_error')\n",
    "print(cv_score_mse)\n",
    "\n",
    "\n",
    "max_error = cross_val_score(linreg, wiek, diabetics.target, cv=5, scoring='max_error')\n",
    "print(max_error)\n"
   ]
  },
  {
   "cell_type": "code",
   "execution_count": null,
   "metadata": {},
   "outputs": [],
   "source": []
  },
  {
   "cell_type": "code",
   "execution_count": null,
   "metadata": {},
   "outputs": [],
   "source": []
  }
 ],
 "metadata": {
  "kernelspec": {
   "display_name": "Python 3",
   "language": "python",
   "name": "python3"
  },
  "language_info": {
   "codemirror_mode": {
    "name": "ipython",
    "version": 3
   },
   "file_extension": ".py",
   "mimetype": "text/x-python",
   "name": "python",
   "nbconvert_exporter": "python",
   "pygments_lexer": "ipython3",
   "version": "3.7.3"
  }
 },
 "nbformat": 4,
 "nbformat_minor": 4
}
