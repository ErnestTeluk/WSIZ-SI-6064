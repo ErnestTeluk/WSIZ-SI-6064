{
 "cells": [
  {
   "cell_type": "code",
   "execution_count": null,
   "metadata": {},
   "outputs": [
    {
     "name": "stdout",
     "output_type": "stream",
     "text": [
      "Liczba komponentów:  7\n",
      "Skład nowych cech:\n",
      "[[-7.59591338e-03  1.37949216e-03  1.14336793e-01  3.89661227e-02\n",
      "   9.92645736e-01 -1.33913413e-03 -1.33690002e-03]\n",
      " [-1.75769284e-02  9.60936514e-03  9.45589761e-01  2.98345419e-01\n",
      "  -1.20856362e-01 -3.56235050e-02 -2.39464426e-02]\n",
      " [-4.18640597e-02 -1.01484086e-02 -3.03968187e-01  9.47754691e-01\n",
      "  -2.65786747e-03 -7.45838072e-02 -4.40339423e-02]\n",
      " [ 8.30210719e-01 -1.18854684e-02  8.95401658e-03  6.19646689e-02\n",
      "   3.59602211e-03 -3.97117397e-02  5.52357810e-01]\n",
      " [ 5.50820159e-01 -2.51484148e-02 -2.79640496e-03 -9.86402779e-04\n",
      "   3.74762198e-03  1.74593181e-01 -8.15756761e-01]\n",
      " [-6.84706630e-02 -3.66980844e-03  1.23408167e-02  8.56293969e-02\n",
      "  -3.75890547e-03  9.80334696e-01  1.63533991e-01]\n",
      " [ 2.32343898e-02  9.99507675e-01 -1.22536842e-02  7.72725877e-03\n",
      "  -1.11829585e-04  7.10714831e-03 -1.35714213e-02]]\n",
      "[9.97537026e-01 2.06319277e-03 3.56333024e-04 3.17081838e-05\n",
      " 7.59336553e-06 3.86726761e-06 2.79566495e-07]\n"
     ]
    },
    {
     "name": "stderr",
     "output_type": "stream",
     "text": [
      "C:\\Users\\Admin\\Anaconda3\\lib\\site-packages\\statsmodels\\nonparametric\\kde.py:487: RuntimeWarning: invalid value encountered in true_divide\n",
      "  binned = fast_linbin(X, a, b, gridsize) / (delta * nobs)\n",
      "C:\\Users\\Admin\\Anaconda3\\lib\\site-packages\\statsmodels\\nonparametric\\kdetools.py:34: RuntimeWarning: invalid value encountered in double_scalars\n",
      "  FAC1 = 2*(np.pi*bw/RANGE)**2\n"
     ]
    }
   ],
   "source": [
    "# Zadanie 1:\n",
    "# Wyjaśnij w kilku zdaniach jaka cecha została wywnioskowana przez PCA i co ona intuicyjnie mogłaby oznaczać\n",
    "\n",
    "# Po analizie wykresów oraz składowych nowej cechy uważam, że kombinacja długości i szerokości płatka maja największy wpływ \n",
    "# na poprawna klasyfikację elementów zbioru. Cecha ta mogłaby się nazywać powierzchnią (kształtem) płatka.\n",
    "\n",
    "# Zadanie bonus: przeprowadź dekompozycję PCA na wybranym przez siebie innym zbiorze danych\n",
    "\n",
    "from sklearn.datasets import fetch_openml\n",
    "import matplotlib.pyplot as plt\n",
    "import pandas as pd\n",
    "import numpy as np\n",
    "%matplotlib inline\n",
    "from sklearn.decomposition import PCA\n",
    "from sklearn import datasets\n",
    "\n",
    "cars = fetch_openml('cars1')\n",
    "# Divide the collection into features and labels\n",
    "# This time we leave all the features - we will try to guess which features are the most important\n",
    "X = cars.data\n",
    "y = cars.target\n",
    "\n",
    "# Initialization. You can immediately fill in n_components, we use all the features\n",
    "# pca = PCA (n_components = 3)\n",
    "\n",
    "pca = PCA()\n",
    "pca.fit(X)\n",
    "\n",
    "# Analysis (decomposition) of PCA creates n new \"artificial\" features that try their best\n",
    "# reflect the variability of the original set\n",
    "print(\"Liczba komponentów: \", pca.n_components_)\n",
    "\n",
    "# Additionally, we can check what impact our original features have on inferred new features\n",
    "print(\"Skład nowych cech:\")\n",
    "print(pca.components_)\n",
    "\n",
    "# Finally, we can determine which new, deduced traits have the greatest impact on the overall variability of the set\n",
    "print(pca.explained_variance_ratio_)\n",
    "\n",
    "# charts will be created using the seaborn package\n",
    "import seaborn as sns\n",
    "\n",
    "# conversion to pandas.DataFrame\n",
    "cars_df = pd.DataFrame(cars['data'], columns=cars['feature_names'])\n",
    "\n",
    "# appending species information to the rest of the dataframe\n",
    "cars_df['target'] = np.array(list(cars['target']))\n",
    "\n",
    "# chart\n",
    "sns.pairplot(cars_df, hue='target')\n",
    "plt.show()\n",
    "\n",
    "# Let's try to reduce our set of features to the only one, the best\n",
    "\n",
    "pca_limit = PCA(n_components = 1)\n",
    "\n",
    "X_new = pca_limit.fit_transform(X)\n",
    "X_new[:5]\n",
    "# Features:\n",
    "print(\"Liczba komponentów: \", print(pca_limit.n_components_))\n",
    "\n",
    "# Impact of the original features to deduce the feature\n",
    "print(\"Skład nowej cechy:\")\n",
    "print(pca_limit.components_)\n",
    "\n",
    "# \"The explainability\" of the new feature is still very high\n",
    "print(pca_limit.explained_variance_ratio_)\n",
    "plt.scatter(X_new, y)\n",
    "plt.show()"
   ]
  },
  {
   "cell_type": "code",
   "execution_count": null,
   "metadata": {},
   "outputs": [],
   "source": []
  }
 ],
 "metadata": {
  "kernelspec": {
   "display_name": "Python 3",
   "language": "python",
   "name": "python3"
  },
  "language_info": {
   "codemirror_mode": {
    "name": "ipython",
    "version": 3
   },
   "file_extension": ".py",
   "mimetype": "text/x-python",
   "name": "python",
   "nbconvert_exporter": "python",
   "pygments_lexer": "ipython3",
   "version": "3.7.3"
  }
 },
 "nbformat": 4,
 "nbformat_minor": 4
}
